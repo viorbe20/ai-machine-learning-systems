{
 "cells": [
  {
   "cell_type": "markdown",
   "metadata": {},
   "source": [
    "## Prácticas Naive Bayes y KNN (ejercicio 2)\n",
    "\n",
    "#### 1. Tomando como base este [tutorial](https://colab.research.google.com/drive/1zFIOfrceEaFkhQOEOkMWroBmNV1HAMVS?usp=drive_link),  crea un modelo de clasificación usando KNN con los mismos datos sintéticos. Para la elección de los mejores hiperparámetros usa un sistema de [validación cruzada](https://educacionadistancia.juntadeandalucia.es/centros/cordoba/pluginfile.php/406946/mod_resource/content/1/M2_SAA_S10%20-%20Validaci%C3%B3n.pdf).\n",
    "\n",
    "#### **2. Usando los datos almacenados en data2.csv, crea un modelo de clasificación usando los modelos de NaiveBayes mostrados en el [vídeo 5](https://vimeo.com/600140324). Indicad qué modelo da mejores resultados. Os toca investigar cómo cargar un archivo csv desde Google Collab.**\n",
    "\n",
    "#### 3. En este [enlace](https://www.kaggle.com/datasets/uciml/red-wine-quality-cortez-et-al-2009) puedes descargar un dataset que recoge diferentes características de vino rojo portugués \"Vinho Verde\" y la calidad del mismo. Crea un modelo de clasificación usando NaiveBayes (GaussianNB) y KNN.\n",
    "\n",
    "#### 4. Plantea el problema anterior con un modelo de regresión usando KNN. En el [vídeo 7](https://vimeo.com/600141357) hay un ejemplo de regresión con KNN.\n",
    "\n",
    "#### author: Virginia Ordoño Bernier - date: december 2023\n"
   ]
  },
  {
   "cell_type": "markdown",
   "metadata": {},
   "source": [
    "#### 1. Carga datos"
   ]
  },
  {
   "cell_type": "code",
   "execution_count": 122,
   "metadata": {},
   "outputs": [
    {
     "data": {
      "text/html": [
       "<div>\n",
       "<style scoped>\n",
       "    .dataframe tbody tr th:only-of-type {\n",
       "        vertical-align: middle;\n",
       "    }\n",
       "\n",
       "    .dataframe tbody tr th {\n",
       "        vertical-align: top;\n",
       "    }\n",
       "\n",
       "    .dataframe thead th {\n",
       "        text-align: right;\n",
       "    }\n",
       "</style>\n",
       "<table border=\"1\" class=\"dataframe\">\n",
       "  <thead>\n",
       "    <tr style=\"text-align: right;\">\n",
       "      <th></th>\n",
       "      <th>Feature_1</th>\n",
       "      <th>Feature_2</th>\n",
       "      <th>Label</th>\n",
       "    </tr>\n",
       "  </thead>\n",
       "  <tbody>\n",
       "    <tr>\n",
       "      <th>0</th>\n",
       "      <td>0.496714</td>\n",
       "      <td>-0.138264</td>\n",
       "      <td>0.0</td>\n",
       "    </tr>\n",
       "    <tr>\n",
       "      <th>1</th>\n",
       "      <td>0.647689</td>\n",
       "      <td>1.523030</td>\n",
       "      <td>0.0</td>\n",
       "    </tr>\n",
       "    <tr>\n",
       "      <th>2</th>\n",
       "      <td>-0.234153</td>\n",
       "      <td>-0.234137</td>\n",
       "      <td>0.0</td>\n",
       "    </tr>\n",
       "    <tr>\n",
       "      <th>3</th>\n",
       "      <td>1.579213</td>\n",
       "      <td>0.767435</td>\n",
       "      <td>0.0</td>\n",
       "    </tr>\n",
       "    <tr>\n",
       "      <th>4</th>\n",
       "      <td>-0.469474</td>\n",
       "      <td>0.542560</td>\n",
       "      <td>0.0</td>\n",
       "    </tr>\n",
       "  </tbody>\n",
       "</table>\n",
       "</div>"
      ],
      "text/plain": [
       "   Feature_1  Feature_2  Label\n",
       "0   0.496714  -0.138264    0.0\n",
       "1   0.647689   1.523030    0.0\n",
       "2  -0.234153  -0.234137    0.0\n",
       "3   1.579213   0.767435    0.0\n",
       "4  -0.469474   0.542560    0.0"
      ]
     },
     "execution_count": 122,
     "metadata": {},
     "output_type": "execute_result"
    }
   ],
   "source": [
    "# from google.colab import files\n",
    "import io\n",
    "import pandas as pd\n",
    "import numpy as np\n",
    "\n",
    "# Carga de datos\n",
    "# data= '/content/drive/MyDrive/AI/SAA/data/data2.csv'\n",
    "\n",
    "data = pd.read_csv(\"data/data2.csv\")\n",
    "data.head()\n",
    "\n",
    "# def upload_files ():\n",
    "#   uploaded = files.upload()\n",
    "#   for fn in uploaded.keys():\n",
    "#     print('User uploaded file \"{name}\" with length {length} bytes'.format(\n",
    "#         name=fn, length=len(uploaded[fn])))\n",
    "#     df = pd.read_csv(io.StringIO(uploaded[fn].decode('utf-8')))\n",
    "#     return df\n",
    "\n",
    "# data = upload_files()\n",
    "# data.head()"
   ]
  },
  {
   "cell_type": "markdown",
   "metadata": {},
   "source": [
    "#### 2. Preprocesamiento de datos"
   ]
  },
  {
   "cell_type": "code",
   "execution_count": 123,
   "metadata": {},
   "outputs": [],
   "source": [
    "from sklearn.model_selection import train_test_split\n",
    "\n",
    "# Separar características (X) y etiquetas (y)\n",
    "X = data[['Feature_1', 'Feature_2']]\n",
    "y = data['Label']\n",
    "\n",
    "# Dividir los datos en conjuntos de entrenamiento y prueba (60% entrenamiento, 40% test)\n",
    "# Random-state para obtener siempre la misma división de datos\n",
    "X_train, X_test, y_train, y_test = train_test_split(X, y, test_size=0.4, random_state=42)"
   ]
  },
  {
   "cell_type": "markdown",
   "metadata": {},
   "source": [
    "### 3. Clasificación con Naive Bayes\n",
    "\n",
    "- Calcula las probabilidades de cada factor o características según cada clase. La clase con más probabildidad, será la ganadora.\n",
    "- Asume que las características son estadísticamente independientes.\n",
    "- Funciona bien con clasificaciones sencillas."
   ]
  },
  {
   "cell_type": "markdown",
   "metadata": {},
   "source": [
    "##### 3.1. Tipos de distribución según clasificadores \n",
    "\n",
    "- *Gaussian Naive Bayes*. Variables de entradas características numéricas continuas.\n",
    "- *Multinomial Naive Bayes*. Datos que provienen de recuentos.\n",
    "- *Complement Naive Bayes*. Extensión del Multinomial. Clasificación no balanceada, se usa cuando una de las clases se produce de manera mucho más frecuente que las demás.\n",
    "- *Bernouilli Naive Bayes*. Con datos binarios.\n",
    "- *Categorical Naive Bayes*. Si todas las variables con categóricas"
   ]
  },
  {
   "cell_type": "markdown",
   "metadata": {},
   "source": [
    "##### 3.2. Selección del método "
   ]
  },
  {
   "cell_type": "code",
   "execution_count": 124,
   "metadata": {},
   "outputs": [
    {
     "name": "stdout",
     "output_type": "stream",
     "text": [
      "Modelo GaussianNB => Precisión = 0.99\n",
      "Modelo BernouilliNB => Precisión = 0.81\n"
     ]
    }
   ],
   "source": [
    "from sklearn.metrics import accuracy_score\n",
    "from sklearn.naive_bayes import GaussianNB, MultinomialNB, BernoulliNB, ComplementNB, CategoricalNB\n",
    "from sklearn.metrics import confusion_matrix\n",
    "import matplotlib.pyplot as plt\n",
    "\n",
    "model_names = [\"GaussianNB\", 'BernouilliNB']\n",
    "classifiers = [GaussianNB(), BernoulliNB()]\n",
    "\n",
    "for model_name, clf in zip(model_names, classifiers):\n",
    "    clf.fit(X_train, y_train)\n",
    "    y_pred = clf.predict(X_test)\n",
    "    score = accuracy_score(y_test, y_pred)\n",
    "    \n",
    "    # Calcular la matriz de confusión\n",
    "    cm = np.round(confusion_matrix(y_test, y_pred))\n",
    "    \n",
    "    # Imprimir resultados\n",
    "    print(f\"Modelo {model_name} => Precisión = {score:.2f}\")"
   ]
  },
  {
   "cell_type": "markdown",
   "metadata": {},
   "source": [
    "##### 3.3. Evaluación del método seleccionado con la Matriz de Confusión "
   ]
  },
  {
   "cell_type": "code",
   "execution_count": 125,
   "metadata": {},
   "outputs": [
    {
     "data": {
      "image/png": "[encoded data removed]",
      "text/plain": [
       "<Figure size 640x480 with 2 Axes>"
      ]
     },
     "metadata": {},
     "output_type": "display_data"
    }
   ],
   "source": [
    "from sklearn.metrics import confusion_matrix\n",
    "import seaborn as sns\n",
    "\n",
    "cm = np.round(confusion_matrix(y_test, y_pred))\n",
    "cm\n",
    "\n",
    "classes = ('Clase 0', 'Clase 1')\n",
    "sns.heatmap(cm, annot=True, cmap='Blues', xticklabels=classes, yticklabels=classes)\n",
    "plt.title('Matriz de Confusión')\n",
    "plt.xlabel('Predicciones')\n",
    "plt.ylabel('Valores Verdaderos')\n",
    "plt.show()"
   ]
  }
 ],
 "metadata": {
  "kernelspec": {
   "display_name": "Python 3",
   "language": "python",
   "name": "python3"
  },
  "language_info": {
   "codemirror_mode": {
    "name": "ipython",
    "version": 3
   },
   "file_extension": ".py",
   "mimetype": "text/x-python",
   "name": "python",
   "nbconvert_exporter": "python",
   "pygments_lexer": "ipython3",
   "version": "3.10.6"
  }
 },
 "nbformat": 4,
 "nbformat_minor": 2
}
