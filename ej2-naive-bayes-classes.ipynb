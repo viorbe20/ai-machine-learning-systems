{
 "cells": [
  {
   "cell_type": "markdown",
   "metadata": {},
   "source": [
    "## Prácticas Naive Bayes y KNN (ejercicio 2)\n",
    "\n",
    "#### 1. Tomando como base este [tutorial](https://colab.research.google.com/drive/1zFIOfrceEaFkhQOEOkMWroBmNV1HAMVS?usp=drive_link),  crea un modelo de clasificación usando KNN con los mismos datos sintéticos. Para la elección de los mejores hiperparámetros usa un sistema de [validación cruzada](https://educacionadistancia.juntadeandalucia.es/centros/cordoba/pluginfile.php/406946/mod_resource/content/1/M2_SAA_S10%20-%20Validaci%C3%B3n.pdf).\n",
    "\n",
    "#### **2. Usando los datos almacenados en data2.csv, crea un modelo de clasificación usando los modelos de NaiveBayes mostrados en el [vídeo 5](https://vimeo.com/600140324). Indicad qué modelo da mejores resultados. Os toca investigar cómo cargar un archivo csv desde Google Collab.**\n",
    "\n",
    "#### 3. En este [enlace](https://www.kaggle.com/datasets/uciml/red-wine-quality-cortez-et-al-2009) puedes descargar un dataset que recoge diferentes características de vino rojo portugués \"Vinho Verde\" y la calidad del mismo. Crea un modelo de clasificación usando NaiveBayes (GaussianNB) y KNN.\n",
    "\n",
    "#### 4. Plantea el problema anterior con un modelo de regresión usando KNN. En el [vídeo 7](https://vimeo.com/600141357) hay un ejemplo de regresión con KNN.\n",
    "\n",
    "#### 5. Usando los datos almacenados en data5.csv, crea un modelo de clasificación usando NaiveBayes y KNN. Haz un estudio inicial de las correlaciones entre las variables.\n",
    "\n",
    "#### author: Virginia Ordoño Bernier - date: december 2023\n"
   ]
  },
  {
   "cell_type": "markdown",
   "metadata": {},
   "source": [
    "#### 1. Carga datos"
   ]
  },
  {
   "cell_type": "code",
   "execution_count": 1,
   "metadata": {},
   "outputs": [
    {
     "data": {
      "text/html": [
       "<div>\n",
       "<style scoped>\n",
       "    .dataframe tbody tr th:only-of-type {\n",
       "        vertical-align: middle;\n",
       "    }\n",
       "\n",
       "    .dataframe tbody tr th {\n",
       "        vertical-align: top;\n",
       "    }\n",
       "\n",
       "    .dataframe thead th {\n",
       "        text-align: right;\n",
       "    }\n",
       "</style>\n",
       "<table border=\"1\" class=\"dataframe\">\n",
       "  <thead>\n",
       "    <tr style=\"text-align: right;\">\n",
       "      <th></th>\n",
       "      <th>Feature_1</th>\n",
       "      <th>Feature_2</th>\n",
       "      <th>Label</th>\n",
       "    </tr>\n",
       "  </thead>\n",
       "  <tbody>\n",
       "    <tr>\n",
       "      <th>0</th>\n",
       "      <td>0.496714</td>\n",
       "      <td>0.000000</td>\n",
       "      <td>0.0</td>\n",
       "    </tr>\n",
       "    <tr>\n",
       "      <th>1</th>\n",
       "      <td>0.647689</td>\n",
       "      <td>1.523030</td>\n",
       "      <td>0.0</td>\n",
       "    </tr>\n",
       "    <tr>\n",
       "      <th>2</th>\n",
       "      <td>0.000000</td>\n",
       "      <td>0.000000</td>\n",
       "      <td>0.0</td>\n",
       "    </tr>\n",
       "    <tr>\n",
       "      <th>3</th>\n",
       "      <td>1.579213</td>\n",
       "      <td>0.767435</td>\n",
       "      <td>0.0</td>\n",
       "    </tr>\n",
       "    <tr>\n",
       "      <th>4</th>\n",
       "      <td>0.000000</td>\n",
       "      <td>0.542560</td>\n",
       "      <td>0.0</td>\n",
       "    </tr>\n",
       "  </tbody>\n",
       "</table>\n",
       "</div>"
      ],
      "text/plain": [
       "   Feature_1  Feature_2  Label\n",
       "0   0.496714   0.000000    0.0\n",
       "1   0.647689   1.523030    0.0\n",
       "2   0.000000   0.000000    0.0\n",
       "3   1.579213   0.767435    0.0\n",
       "4   0.000000   0.542560    0.0"
      ]
     },
     "execution_count": 1,
     "metadata": {},
     "output_type": "execute_result"
    }
   ],
   "source": [
    "import pandas as pd\n",
    "import numpy as np\n",
    "\n",
    "df_classes = pd.read_csv(\"data/data2.csv\")\n",
    "df_classes.head()"
   ]
  },
  {
   "cell_type": "code",
   "execution_count": 2,
   "metadata": {},
   "outputs": [
    {
     "data": {
      "text/html": [
       "<div>\n",
       "<style scoped>\n",
       "    .dataframe tbody tr th:only-of-type {\n",
       "        vertical-align: middle;\n",
       "    }\n",
       "\n",
       "    .dataframe tbody tr th {\n",
       "        vertical-align: top;\n",
       "    }\n",
       "\n",
       "    .dataframe thead th {\n",
       "        text-align: right;\n",
       "    }\n",
       "</style>\n",
       "<table border=\"1\" class=\"dataframe\">\n",
       "  <thead>\n",
       "    <tr style=\"text-align: right;\">\n",
       "      <th></th>\n",
       "      <th>class_1</th>\n",
       "      <th>class_2</th>\n",
       "      <th>target</th>\n",
       "    </tr>\n",
       "  </thead>\n",
       "  <tbody>\n",
       "    <tr>\n",
       "      <th>0</th>\n",
       "      <td>0.496714</td>\n",
       "      <td>0.000000</td>\n",
       "      <td>0</td>\n",
       "    </tr>\n",
       "    <tr>\n",
       "      <th>1</th>\n",
       "      <td>0.647689</td>\n",
       "      <td>1.523030</td>\n",
       "      <td>0</td>\n",
       "    </tr>\n",
       "    <tr>\n",
       "      <th>2</th>\n",
       "      <td>0.000000</td>\n",
       "      <td>0.000000</td>\n",
       "      <td>0</td>\n",
       "    </tr>\n",
       "    <tr>\n",
       "      <th>3</th>\n",
       "      <td>1.579213</td>\n",
       "      <td>0.767435</td>\n",
       "      <td>0</td>\n",
       "    </tr>\n",
       "    <tr>\n",
       "      <th>4</th>\n",
       "      <td>0.000000</td>\n",
       "      <td>0.542560</td>\n",
       "      <td>0</td>\n",
       "    </tr>\n",
       "  </tbody>\n",
       "</table>\n",
       "</div>"
      ],
      "text/plain": [
       "    class_1   class_2  target\n",
       "0  0.496714  0.000000       0\n",
       "1  0.647689  1.523030       0\n",
       "2  0.000000  0.000000       0\n",
       "3  1.579213  0.767435       0\n",
       "4  0.000000  0.542560       0"
      ]
     },
     "execution_count": 2,
     "metadata": {},
     "output_type": "execute_result"
    }
   ],
   "source": [
    "df_classes.rename(columns={'Feature_1': 'class_1', 'Feature_2': 'class_2', 'Label': 'target'}, inplace=True)\n",
    "df_classes['target'] = df_classes['target'].astype(int)\n",
    "df_classes.head()"
   ]
  },
  {
   "cell_type": "markdown",
   "metadata": {},
   "source": [
    "#### 2. Preprocesamiento de datos"
   ]
  },
  {
   "cell_type": "code",
   "execution_count": 3,
   "metadata": {},
   "outputs": [
    {
     "data": {
      "text/html": [
       "<div>\n",
       "<style scoped>\n",
       "    .dataframe tbody tr th:only-of-type {\n",
       "        vertical-align: middle;\n",
       "    }\n",
       "\n",
       "    .dataframe tbody tr th {\n",
       "        vertical-align: top;\n",
       "    }\n",
       "\n",
       "    .dataframe thead th {\n",
       "        text-align: right;\n",
       "    }\n",
       "</style>\n",
       "<table border=\"1\" class=\"dataframe\">\n",
       "  <thead>\n",
       "    <tr style=\"text-align: right;\">\n",
       "      <th></th>\n",
       "      <th>index</th>\n",
       "      <th>class_1</th>\n",
       "      <th>class_2</th>\n",
       "      <th>target</th>\n",
       "    </tr>\n",
       "  </thead>\n",
       "  <tbody>\n",
       "    <tr>\n",
       "      <th>0</th>\n",
       "      <td>395</td>\n",
       "      <td>0.429618</td>\n",
       "      <td>0.207688</td>\n",
       "      <td>0</td>\n",
       "    </tr>\n",
       "    <tr>\n",
       "      <th>1</th>\n",
       "      <td>244</td>\n",
       "      <td>1.687142</td>\n",
       "      <td>0.881640</td>\n",
       "      <td>0</td>\n",
       "    </tr>\n",
       "    <tr>\n",
       "      <th>2</th>\n",
       "      <td>830</td>\n",
       "      <td>4.317115</td>\n",
       "      <td>2.881931</td>\n",
       "      <td>1</td>\n",
       "    </tr>\n",
       "    <tr>\n",
       "      <th>3</th>\n",
       "      <td>671</td>\n",
       "      <td>0.436938</td>\n",
       "      <td>1.190646</td>\n",
       "      <td>0</td>\n",
       "    </tr>\n",
       "    <tr>\n",
       "      <th>4</th>\n",
       "      <td>155</td>\n",
       "      <td>0.000000</td>\n",
       "      <td>1.098777</td>\n",
       "      <td>0</td>\n",
       "    </tr>\n",
       "  </tbody>\n",
       "</table>\n",
       "</div>"
      ],
      "text/plain": [
       "   index   class_1   class_2  target\n",
       "0    395  0.429618  0.207688       0\n",
       "1    244  1.687142  0.881640       0\n",
       "2    830  4.317115  2.881931       1\n",
       "3    671  0.436938  1.190646       0\n",
       "4    155  0.000000  1.098777       0"
      ]
     },
     "execution_count": 3,
     "metadata": {},
     "output_type": "execute_result"
    }
   ],
   "source": [
    "from sklearn.model_selection import train_test_split\n",
    "\n",
    "# División el conjunto de datos en train y test en un porcentaje de 2/3 vs 1/3\n",
    "TEST_SIZE = 0.33\n",
    "train, test = train_test_split(df_classes, test_size= TEST_SIZE)\n",
    "train.reset_index(inplace = True)\n",
    "test.reset_index(inplace = True)\n",
    "train.head()"
   ]
  },
  {
   "cell_type": "markdown",
   "metadata": {},
   "source": [
    "### 3. Clasificación con Naive Bayes\n",
    "\n",
    "- Calcula las probabilidades de cada factor o características según cada clase. La clase con más probabildidad, será la ganadora.\n",
    "- Asume que las características son estadísticamente independientes.\n",
    "- Funciona bien con clasificaciones sencillas."
   ]
  },
  {
   "cell_type": "markdown",
   "metadata": {},
   "source": [
    "##### 3.1. Tipos de distribución según clasificadores \n",
    "\n",
    "- *Gaussian Naive Bayes*. Variables de entradas características numéricas continuas.\n",
    "- *Multinomial Naive Bayes*. Datos que provienen de recuentos.\n",
    "- *Complement Naive Bayes*. Extensión del Multinomial. Clasificación no balanceada, se usa cuando una de las clases se produce de manera mucho más frecuente que las demás.\n",
    "- *Bernouilli Naive Bayes*. Con datos binarios.\n",
    "- *Categorical Naive Bayes*. Si todas las variables con categóricas"
   ]
  },
  {
   "cell_type": "markdown",
   "metadata": {},
   "source": [
    "##### 3.2. Selección del método "
   ]
  },
  {
   "cell_type": "code",
   "execution_count": 4,
   "metadata": {},
   "outputs": [
    {
     "name": "stdout",
     "output_type": "stream",
     "text": [
      "\n",
      "Informe de clasificación: GaussianNB()\n",
      "              precision    recall  f1-score   support\n",
      "\n",
      "     class_1       1.00      0.99      0.99       263\n",
      "     class_2       0.97      0.99      0.98        67\n",
      "\n",
      "    accuracy                           0.99       330\n",
      "   macro avg       0.98      0.99      0.99       330\n",
      "weighted avg       0.99      0.99      0.99       330\n",
      "\n",
      "\n",
      "Informe de clasificación: BernoulliNB()\n",
      "              precision    recall  f1-score   support\n",
      "\n",
      "     class_1       0.80      1.00      0.89       263\n",
      "     class_2       0.00      0.00      0.00        67\n",
      "\n",
      "    accuracy                           0.80       330\n",
      "   macro avg       0.40      0.50      0.44       330\n",
      "weighted avg       0.64      0.80      0.71       330\n",
      "\n",
      "\n",
      "Informe de clasificación: MultinomialNB()\n",
      "              precision    recall  f1-score   support\n",
      "\n",
      "     class_1       0.80      1.00      0.89       263\n",
      "     class_2       0.00      0.00      0.00        67\n",
      "\n",
      "    accuracy                           0.80       330\n",
      "   macro avg       0.40      0.50      0.44       330\n",
      "weighted avg       0.64      0.80      0.71       330\n",
      "\n",
      "\n",
      "Informe de clasificación: ComplementNB()\n",
      "              precision    recall  f1-score   support\n",
      "\n",
      "     class_1       0.85      0.60      0.70       263\n",
      "     class_2       0.27      0.58      0.37        67\n",
      "\n",
      "    accuracy                           0.60       330\n",
      "   macro avg       0.56      0.59      0.54       330\n",
      "weighted avg       0.73      0.60      0.64       330\n",
      "\n",
      "\n",
      "Informe de clasificación: CategoricalNB()\n",
      "              precision    recall  f1-score   support\n",
      "\n",
      "     class_1       0.99      1.00      0.99       263\n",
      "     class_2       0.98      0.96      0.97        67\n",
      "\n",
      "    accuracy                           0.99       330\n",
      "   macro avg       0.99      0.98      0.98       330\n",
      "weighted avg       0.99      0.99      0.99       330\n",
      "\n"
     ]
    },
    {
     "name": "stderr",
     "output_type": "stream",
     "text": [
      "c:\\Users\\Virginia\\AppData\\Local\\Programs\\Python\\Python310\\lib\\site-packages\\sklearn\\metrics\\_classification.py:1471: UndefinedMetricWarning: Precision and F-score are ill-defined and being set to 0.0 in labels with no predicted samples. Use `zero_division` parameter to control this behavior.\n",
      "  _warn_prf(average, modifier, msg_start, len(result))\n",
      "c:\\Users\\Virginia\\AppData\\Local\\Programs\\Python\\Python310\\lib\\site-packages\\sklearn\\metrics\\_classification.py:1471: UndefinedMetricWarning: Precision and F-score are ill-defined and being set to 0.0 in labels with no predicted samples. Use `zero_division` parameter to control this behavior.\n",
      "  _warn_prf(average, modifier, msg_start, len(result))\n",
      "c:\\Users\\Virginia\\AppData\\Local\\Programs\\Python\\Python310\\lib\\site-packages\\sklearn\\metrics\\_classification.py:1471: UndefinedMetricWarning: Precision and F-score are ill-defined and being set to 0.0 in labels with no predicted samples. Use `zero_division` parameter to control this behavior.\n",
      "  _warn_prf(average, modifier, msg_start, len(result))\n",
      "c:\\Users\\Virginia\\AppData\\Local\\Programs\\Python\\Python310\\lib\\site-packages\\sklearn\\metrics\\_classification.py:1471: UndefinedMetricWarning: Precision and F-score are ill-defined and being set to 0.0 in labels with no predicted samples. Use `zero_division` parameter to control this behavior.\n",
      "  _warn_prf(average, modifier, msg_start, len(result))\n",
      "c:\\Users\\Virginia\\AppData\\Local\\Programs\\Python\\Python310\\lib\\site-packages\\sklearn\\metrics\\_classification.py:1471: UndefinedMetricWarning: Precision and F-score are ill-defined and being set to 0.0 in labels with no predicted samples. Use `zero_division` parameter to control this behavior.\n",
      "  _warn_prf(average, modifier, msg_start, len(result))\n",
      "c:\\Users\\Virginia\\AppData\\Local\\Programs\\Python\\Python310\\lib\\site-packages\\sklearn\\metrics\\_classification.py:1471: UndefinedMetricWarning: Precision and F-score are ill-defined and being set to 0.0 in labels with no predicted samples. Use `zero_division` parameter to control this behavior.\n",
      "  _warn_prf(average, modifier, msg_start, len(result))\n"
     ]
    }
   ],
   "source": [
    "from sklearn.metrics import classification_report\n",
    "from sklearn.naive_bayes import GaussianNB, MultinomialNB, BernoulliNB, ComplementNB, CategoricalNB\n",
    "import matplotlib.pyplot as plt\n",
    "\n",
    "X_train = train[['class_1', 'class_2']]\n",
    "y_train = train['target']\n",
    "X_test = test[['class_1', 'class_2']]\n",
    "y_test = test['target']\n",
    "\n",
    "classifiers = [GaussianNB(), BernoulliNB(), MultinomialNB(), ComplementNB(), CategoricalNB()]\n",
    "\n",
    "for clf_value in (classifiers):\n",
    "    clf_value.fit(X_train, y_train)\n",
    "    y_pred = clf_value.predict(X_test)    \n",
    "\n",
    "    # Mostrar el informe de clasificación\n",
    "    print(f\"\\nInforme de clasificación: {clf_value}\")\n",
    "    print(classification_report(y_test, y_pred, target_names=['class_1', 'class_2']))"
   ]
  },
  {
   "cell_type": "markdown",
   "metadata": {},
   "source": [
    "##### 3.3. Evaluación del método seleccionado con la Matriz de Confusión "
   ]
  },
  {
   "cell_type": "code",
   "execution_count": 5,
   "metadata": {},
   "outputs": [
    {
     "data": {
      "image/png": "[encoded data removed]",
      "text/plain": [
       "<Figure size 640x480 with 2 Axes>"
      ]
     },
     "metadata": {},
     "output_type": "display_data"
    }
   ],
   "source": [
    "from sklearn.metrics import confusion_matrix\n",
    "import seaborn as sns\n",
    "\n",
    "# Calcular la matriz de confusión\n",
    "cm = np.round(confusion_matrix(y_test, y_pred))\n",
    "cm\n",
    "\n",
    "classes = ('Class 1', 'Class 2')\n",
    "sns.heatmap(cm, annot=True, cmap='Blues', xticklabels=classes, yticklabels=classes, fmt='d')\n",
    "plt.title('Matriz de Confusión')\n",
    "plt.xlabel('Predicciones')\n",
    "plt.ylabel('Valores Verdaderos')\n",
    "plt.show()\n",
    "\n",
    "# Resultados\n",
    "# Verdaderos Positivos (TP): 267\n",
    "# Falsos Positivos (FP): 2 \n",
    "# Falsos Negativos (FN): 2 \n",
    "# Verdaderos Negativos (TN): 59"
   ]
  }
 ],
 "metadata": {
  "kernelspec": {
   "display_name": "Python 3",
   "language": "python",
   "name": "python3"
  },
  "language_info": {
   "codemirror_mode": {
    "name": "ipython",
    "version": 3
   },
   "file_extension": ".py",
   "mimetype": "text/x-python",
   "name": "python",
   "nbconvert_exporter": "python",
   "pygments_lexer": "ipython3",
   "version": "3.10.6"
  }
 },
 "nbformat": 4,
 "nbformat_minor": 2
}
